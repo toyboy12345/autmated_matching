{
  "nbformat": 4,
  "nbformat_minor": 0,
  "metadata": {
    "colab": {
      "provenance": []
    },
    "kernelspec": {
      "name": "python3",
      "display_name": "Python 3"
    },
    "language_info": {
      "name": "python"
    }
  },
  "cells": [
    {
      "cell_type": "code",
      "source": [
        "!pip install mip"
      ],
      "metadata": {
        "colab": {
          "base_uri": "https://localhost:8080/",
          "height": 356
        },
        "id": "QxaMzzXhOSKr",
        "outputId": "b93cc086-dba6-482f-aa47-20193d5e8fcf"
      },
      "execution_count": 1,
      "outputs": [
        {
          "output_type": "stream",
          "name": "stdout",
          "text": [
            "Collecting mip\n",
            "  Downloading mip-1.15.0-py3-none-any.whl (15.3 MB)\n",
            "\u001b[2K     \u001b[90m━━━━━━━━━━━━━━━━━━━━━━━━━━━━━━━━━━━━━━━━\u001b[0m \u001b[32m15.3/15.3 MB\u001b[0m \u001b[31m45.4 MB/s\u001b[0m eta \u001b[36m0:00:00\u001b[0m\n",
            "\u001b[?25hCollecting cffi==1.15.* (from mip)\n",
            "  Downloading cffi-1.15.1-cp310-cp310-manylinux_2_17_x86_64.manylinux2014_x86_64.whl (441 kB)\n",
            "\u001b[2K     \u001b[90m━━━━━━━━━━━━━━━━━━━━━━━━━━━━━━━━━━━━━━━━\u001b[0m \u001b[32m441.8/441.8 kB\u001b[0m \u001b[31m23.7 MB/s\u001b[0m eta \u001b[36m0:00:00\u001b[0m\n",
            "\u001b[?25hRequirement already satisfied: pycparser in /usr/local/lib/python3.10/dist-packages (from cffi==1.15.*->mip) (2.22)\n",
            "Installing collected packages: cffi, mip\n",
            "  Attempting uninstall: cffi\n",
            "    Found existing installation: cffi 1.16.0\n",
            "    Uninstalling cffi-1.16.0:\n",
            "      Successfully uninstalled cffi-1.16.0\n",
            "Successfully installed cffi-1.15.1 mip-1.15.0\n"
          ]
        },
        {
          "output_type": "display_data",
          "data": {
            "application/vnd.colab-display-data+json": {
              "pip_warning": {
                "packages": [
                  "cffi"
                ]
              },
              "id": "ca0ecc03f9254b63844848af025c4528"
            }
          },
          "metadata": {}
        }
      ]
    },
    {
      "cell_type": "code",
      "execution_count": 1,
      "metadata": {
        "id": "TNryXkXBOFYJ"
      },
      "outputs": [],
      "source": [
        "import mip\n",
        "import numpy as np"
      ]
    },
    {
      "cell_type": "code",
      "source": [
        "problem = mip.Model()"
      ],
      "metadata": {
        "id": "XKo4FyqYOMcr"
      },
      "execution_count": 19,
      "outputs": []
    },
    {
      "cell_type": "code",
      "source": [
        "xs = problem.add_var_tensor((6,6,6,6,6,6,3),\"xs\",lb=0)\n",
        "ys = problem.add_var_tensor((6,6,6,6,6,6,3),\"ys\",lb=0)"
      ],
      "metadata": {
        "id": "G_RRbz3ZrlHS"
      },
      "execution_count": 20,
      "outputs": []
    },
    {
      "cell_type": "code",
      "source": [
        "zs = problem.add_var_tensor((6,6,6,6,6,6,3,3),\"zs\",lb=0,ub=1)"
      ],
      "metadata": {
        "id": "ePnFXKbur1Tg"
      },
      "execution_count": 21,
      "outputs": []
    },
    {
      "cell_type": "code",
      "source": [
        "us = problem.add_var_tensor((6,6,6,6,6,6,3,6,3),\"us\",lb=0)\n",
        "vs = problem.add_var_tensor((6,6,6,6,6,6,3,6,3),\"vs\",lb=0)"
      ],
      "metadata": {
        "id": "p7G2vKDi7kB3"
      },
      "execution_count": 22,
      "outputs": []
    },
    {
      "cell_type": "code",
      "source": [
        "# 目的関数\n",
        "problem.objective = mip.minimize(mip.xsum(xs.flatten())+mip.xsum(ys.flatten())-mip.xsum(zs.flatten()))"
      ],
      "metadata": {
        "id": "htO8_AUCRImZ"
      },
      "execution_count": 23,
      "outputs": []
    },
    {
      "cell_type": "code",
      "source": [
        "prec = [\n",
        "    [[1,2],[2],[]],# 0,1,2\n",
        "    [[1,2],[],[1]],# 0,2,1\n",
        "    [[2],[0,2],[]],# 1,0,2\n",
        "    [[],[0,2],[0]],# 1,2,0\n",
        "    [[1],[],[0,1]],# 2,0,1\n",
        "    [[],[0],[0,1]]# 2,1,0\n",
        "]\n",
        "\n",
        "preceq = [\n",
        "    [[0,1,2],[1,2],[2]],# 0,1,2\n",
        "    [[0,1,2],[1],[1,2]],# 0,2,1\n",
        "    [[0,2],[0,1,2],[2]],# 1,0,2\n",
        "    [[0],[0,1,2],[0,2]],# 1,2,0\n",
        "    [[0,1],[1],[0,1,2]],# 2,0,1\n",
        "    [[0],[0,1],[0,1,2]]# 2,1,0\n",
        "]\n",
        "\n",
        "for p1 in range(6):\n",
        "    for p2 in range(6):\n",
        "        for p3 in range(6):\n",
        "            for q1 in range(6):\n",
        "                for q2 in range(6):\n",
        "                    for q3 in range(6):\n",
        "                        ps = [p1,p2,p3]\n",
        "                        qs = [q1,q2,q3]\n",
        "                        for w in range(3):\n",
        "                            for f in range(3):\n",
        "                                constraint = 0\n",
        "                                constraint += xs[p1,p2,p3,q1,q2,q3,w] + ys[p1,p2,p3,q1,q2,q3,f] - zs[p1,p2,p3,q1,q2,q3,w,f]\n",
        "                                if len(prec[ps[w]]) > 0:\n",
        "                                    for f_ in prec[ps[w]][f]:\n",
        "                                        constraint -= zs[p1,p2,p3,q1,q2,q3,w,f_]\n",
        "                                if len(prec[qs[f]]) > 0:\n",
        "                                    for w_ in prec[qs[f]][w]:\n",
        "                                        constraint -= zs[p1,p2,p3,q1,q2,q3,w_,f]\n",
        "                                for p_ in range(6):\n",
        "                                    if w == 0:\n",
        "                                        for f_ in preceq[p_][f]:\n",
        "                                            constraint += us[p_,p2,p3,q1,q2,q3,w,p1,f_]\n",
        "                                        for f_ in preceq[ps[w]][f]:\n",
        "                                            constraint -= us[p1,p2,p3,q1,q2,q3,w,p_,f_]\n",
        "                                    elif w == 1:\n",
        "                                        for f_ in preceq[p_][f]:\n",
        "                                            constraint += us[p1,p_,p3,q1,q2,q3,w,p2,f_]\n",
        "                                        for f_ in preceq[ps[w]][f]:\n",
        "                                            constraint -= us[p1,p2,p3,q1,q2,q3,w,p_,f_]\n",
        "                                    elif w == 2:\n",
        "                                        for f_ in preceq[p_][f]:\n",
        "                                            constraint += us[p1,p2,p_,q1,q2,q3,w,p3,f_]\n",
        "                                        for f_ in preceq[ps[w]][f]:\n",
        "                                            constraint -= us[p1,p2,p3,q1,q2,q3,w,p_,f_]\n",
        "                                for q_ in range(6):\n",
        "                                    if f == 0:\n",
        "                                        for w_ in preceq[q_][w]:\n",
        "                                            constraint += vs[p1,p2,p3,q_,q2,q3,f,q1,w_]\n",
        "                                        for w_ in preceq[qs[f]][w]:\n",
        "                                            constraint -= vs[p1,p2,p3,q1,q2,q3,f,q_,w_]\n",
        "                                    elif f == 1:\n",
        "                                        for w_ in preceq[q_][w]:\n",
        "                                            constraint += vs[p1,p2,p3,q1,q_,q3,f,q2,w_]\n",
        "                                        for w_ in preceq[qs[f]][w]:\n",
        "                                            constraint -= vs[p1,p2,p3,q1,q2,q3,f,q_,w_]\n",
        "                                    elif f == 2:\n",
        "                                        for w_ in preceq[q_][w]:\n",
        "                                            constraint += vs[p1,p2,p3,q1,q2,q_,f,q3,w_]\n",
        "                                        for w_ in preceq[qs[f]][w]:\n",
        "                                            constraint -= vs[p1,p2,p3,q1,q2,q3,f,q_,w_]\n",
        "                                problem += constraint <= 2"
      ],
      "metadata": {
        "id": "wsch9tkD--Dn"
      },
      "execution_count": 29,
      "outputs": []
    },
    {
      "cell_type": "code",
      "source": [
        "problem.optimize()"
      ],
      "metadata": {
        "id": "gbzDWlE5DauB"
      },
      "execution_count": null,
      "outputs": []
    },
    {
      "cell_type": "code",
      "source": [
        "p1,p2,p3,q1,q2,q3 = 0,0,0,0,0,0\n",
        "\n",
        "pref = [\n",
        "    [[],[0],[0,1]],\n",
        "    [[],[0,2],[0]],\n",
        "    [[1],[],[0,1]],\n",
        "    [[1,2],[],[1]],\n",
        "    [[2],[0,2],[]],\n",
        "    [[1,2],[2],[]]\n",
        "]\n",
        "\n",
        "for w in range(3):\n",
        "    problem += mip.xsum(gs[p1,p2,p3,q1,q2,q3,w,:]) <= 1\n",
        "for f in range(3):\n",
        "    problem += mip.xsum(gs[p1,p2,p3,q1,q2,q3,:,f]) <= 1\n",
        "\n",
        "for w in range(3):\n",
        "    for f in range(3):\n",
        "        constraint = -ts[p1,p2,p3,q1,q2,q3,w,f]-gs[p1,p2,p3,q1,q2,q3,w,f]\n",
        "        for f_ in pref[ps[w]][f]:\n",
        "            constraint -= gs[p1,p2,p3,q1,q2,q3,w,f_]\n",
        "        for w_ in pref[qs[f]][w]:\n",
        "            constraint -= gs[p1,p2,p3,q1,q2,q3,w_,f]\n",
        "        problem += constraint <= -1\n",
        "\n",
        "ps = [p1,p2,p3]\n",
        "qs = [q1,q2,q3]\n",
        "for w in range(3):\n",
        "    for p_ in range(6):\n",
        "        for f in range(3):\n",
        "            constraint = 0\n",
        "            flag = 0\n",
        "            for f_ in pref[ps[w]][f]:\n",
        "                flag = 1\n",
        "                if w == 0:\n",
        "                    constraint += gs[p_,p2,p3,q1,q2,q3,w,f_] - gs[p1,p2,p3,q1,q2,q3,w,f_]\n",
        "                elif w == 1:\n",
        "                    constraint += gs[p1,p_,p3,q1,q2,q3,w,f_] - gs[p1,p2,p3,q1,q2,q3,w,f_]\n",
        "                elif w == 2:\n",
        "                    constraint += gs[p1,p2,p_,q1,q2,q3,w,f_] - gs[p1,p2,p3,q1,q2,q3,w,f_]\n",
        "            if flag:\n",
        "                problem += constraint <= 0\n",
        "for f in range(3):\n",
        "    for q_ in range(6):\n",
        "        for w in range(3):\n",
        "            constraint = 0\n",
        "            flag = 0\n",
        "            for w_ in pref[qs[f]][w]:\n",
        "                flag = 1\n",
        "                if f == 0:\n",
        "                    constraint += gs[p1,p2,p3,q_,q2,q3,w_,f] - gs[p1,p2,p3,q1,q2,q3,w_,f]\n",
        "                elif f == 1:\n",
        "                    constraint += gs[p1,p2,p3,q1,q_,q3,w_,f] - gs[p1,p2,p3,q1,q2,q3,w_,f]\n",
        "                elif f == 2:\n",
        "                    constraint += gs[p1,p2,p3,q1,q2,q_,w_,f] - gs[p1,p2,p3,q1,q2,q3,w_,f]\n",
        "            if flag:\n",
        "                problem += constraint <= 0"
      ],
      "metadata": {
        "id": "gU1RnfyoBL0u"
      },
      "execution_count": null,
      "outputs": []
    },
    {
      "cell_type": "code",
      "source": [
        "problem.vars[0].name"
      ],
      "metadata": {
        "colab": {
          "base_uri": "https://localhost:8080/",
          "height": 36
        },
        "id": "noi5OOariOP6",
        "outputId": "b83d8db1-8f42-4e12-f2af-f2d7c9c06a10"
      },
      "execution_count": null,
      "outputs": [
        {
          "output_type": "execute_result",
          "data": {
            "text/plain": [
              "'gs_0_0_0_0_0_0_0_0'"
            ],
            "application/vnd.google.colaboratory.intrinsic+json": {
              "type": "string"
            }
          },
          "metadata": {},
          "execution_count": 69
        }
      ]
    },
    {
      "cell_type": "code",
      "source": [
        "constraints = {}\n",
        "names_ = [\"gs_0_0_0_0_0_0_0_0\",\"gs_0_0_0_0_0_0_0_1\",\"gs_0_0_0_0_0_0_0_2\",\n",
        "         \"gs_0_0_0_0_0_0_1_0\",\"gs_0_0_0_0_0_0_1_1\",\"gs_0_0_0_0_0_0_1_2\",\n",
        "         \"gs_0_0_0_0_0_0_2_0\",\"gs_0_0_0_0_0_0_2_1\",\"gs_0_0_0_0_0_0_2_2\",\n",
        "         \"gs_4_1_1_0_3_5_0_0\",\"gs_4_1_1_0_3_5_0_1\",\"gs_4_1_1_0_3_5_0_2\",\n",
        "         \"gs_4_1_1_0_3_5_1_0\",\"gs_4_1_1_0_3_5_1_1\",\"gs_4_1_1_0_3_5_1_2\",\n",
        "         \"gs_4_1_1_0_3_5_2_0\",\"gs_4_1_1_0_3_5_2_1\",\"gs_4_1_1_0_3_5_2_2\"]\n",
        "for var in names_:\n",
        "    constraints[var] = []\n",
        "constraints[\"b\"] = []"
      ],
      "metadata": {
        "id": "tjo-DtYJBrmn"
      },
      "execution_count": null,
      "outputs": []
    },
    {
      "cell_type": "code",
      "source": [
        "len(index_list)"
      ],
      "metadata": {
        "colab": {
          "base_uri": "https://localhost:8080/"
        },
        "id": "80sogMH0g4oo",
        "outputId": "d2cd9731-7202-4ab4-afb6-e260daa742c3"
      },
      "execution_count": null,
      "outputs": [
        {
          "output_type": "execute_result",
          "data": {
            "text/plain": [
              "4059072"
            ]
          },
          "metadata": {},
          "execution_count": 57
        }
      ]
    },
    {
      "cell_type": "code",
      "source": [
        "import random"
      ],
      "metadata": {
        "id": "eH6jxoDFeopt"
      },
      "execution_count": null,
      "outputs": []
    },
    {
      "cell_type": "code",
      "source": [
        "random.randint(0,5)"
      ],
      "metadata": {
        "colab": {
          "base_uri": "https://localhost:8080/",
          "height": 146
        },
        "id": "FAtU8AYwetmM",
        "outputId": "d6898d8f-c293-4ed6-b411-88c06b6bc3c5"
      },
      "execution_count": null,
      "outputs": [
        {
          "output_type": "error",
          "ename": "NameError",
          "evalue": "name 'random' is not defined",
          "traceback": [
            "\u001b[0;31m---------------------------------------------------------------------------\u001b[0m",
            "\u001b[0;31mNameError\u001b[0m                                 Traceback (most recent call last)",
            "\u001b[0;32m<ipython-input-1-066aaed46223>\u001b[0m in \u001b[0;36m<cell line: 1>\u001b[0;34m()\u001b[0m\n\u001b[0;32m----> 1\u001b[0;31m \u001b[0mrandom\u001b[0m\u001b[0;34m.\u001b[0m\u001b[0mrandint\u001b[0m\u001b[0;34m(\u001b[0m\u001b[0;36m0\u001b[0m\u001b[0;34m,\u001b[0m\u001b[0;36m5\u001b[0m\u001b[0;34m)\u001b[0m\u001b[0;34m\u001b[0m\u001b[0;34m\u001b[0m\u001b[0m\n\u001b[0m",
            "\u001b[0;31mNameError\u001b[0m: name 'random' is not defined"
          ]
        }
      ]
    },
    {
      "cell_type": "code",
      "source": [
        "for constr in problem.constrs:\n",
        "    names = list(x.name for x in constr.expr.expr)\n",
        "    names.append(\"b\")\n",
        "    for var in constraints:\n",
        "        if var not in names:\n",
        "            constraints[var].append(0)\n",
        "    for x in constr.expr.expr:\n",
        "        if x.name in names_:\n",
        "            constraints[x.name].append(constr.expr.expr[x])\n",
        "    constraints[\"b\"].append(constr.rhs)"
      ],
      "metadata": {
        "id": "dJ4vwzXvBsXg"
      },
      "execution_count": null,
      "outputs": []
    },
    {
      "cell_type": "code",
      "source": [
        "import pandas as pd"
      ],
      "metadata": {
        "id": "oGYwOBNjBzAu"
      },
      "execution_count": null,
      "outputs": []
    },
    {
      "cell_type": "code",
      "source": [
        "df = pd.DataFrame(constraints,index=index_list)\n",
        "df = df[df.iloc[:,:-1].abs().sum(axis=1) != 0]"
      ],
      "metadata": {
        "id": "AVyzLwC2CHjY"
      },
      "execution_count": null,
      "outputs": []
    },
    {
      "cell_type": "code",
      "source": [
        "df = df[df.iloc[:,:-1].abs().sum(axis=1) != 0]"
      ],
      "metadata": {
        "id": "wvRRsQY9lpPz"
      },
      "execution_count": null,
      "outputs": []
    },
    {
      "cell_type": "code",
      "source": [
        "df.shape"
      ],
      "metadata": {
        "colab": {
          "base_uri": "https://localhost:8080/"
        },
        "id": "GVfJCIZkgYsN",
        "outputId": "353b78f5-6263-43ff-a975-11ab13e7285a"
      },
      "execution_count": null,
      "outputs": [
        {
          "output_type": "execute_result",
          "data": {
            "text/plain": [
              "(270, 19)"
            ]
          },
          "metadata": {},
          "execution_count": 16
        }
      ]
    },
    {
      "cell_type": "code",
      "source": [
        "len(problem.constrs)"
      ],
      "metadata": {
        "colab": {
          "base_uri": "https://localhost:8080/"
        },
        "id": "ywo0HvC9kjYt",
        "outputId": "544f0cbc-03d9-48c9-9034-7320bd53849a"
      },
      "execution_count": null,
      "outputs": [
        {
          "output_type": "execute_result",
          "data": {
            "text/plain": [
              "4059072"
            ]
          },
          "metadata": {},
          "execution_count": 95
        }
      ]
    },
    {
      "cell_type": "code",
      "source": [
        "len(index_list)"
      ],
      "metadata": {
        "colab": {
          "base_uri": "https://localhost:8080/"
        },
        "id": "tzflWQq-jOY0",
        "outputId": "7327112b-883f-42c1-d60d-56f4beee66eb"
      },
      "execution_count": null,
      "outputs": [
        {
          "output_type": "execute_result",
          "data": {
            "text/plain": [
              "4059072"
            ]
          },
          "metadata": {},
          "execution_count": 94
        }
      ]
    },
    {
      "cell_type": "code",
      "source": [
        "df = df.iloc[:,:9]"
      ],
      "metadata": {
        "id": "rw3CGz-rCLUr"
      },
      "execution_count": null,
      "outputs": []
    },
    {
      "cell_type": "code",
      "source": [
        "df.to_csv(\"constraints33.csv\")"
      ],
      "metadata": {
        "id": "jqBT2653EFqM"
      },
      "execution_count": null,
      "outputs": []
    },
    {
      "cell_type": "code",
      "source": [
        "# fractionally stable\n",
        "pref = [\n",
        "    [[],[0],[0,1]],\n",
        "    [[],[0,2],[0]],\n",
        "    [[1],[],[0,1]],\n",
        "    [[1,2],[],[1]],\n",
        "    [[2],[0,2],[]],\n",
        "    [[1,2],[2],[]]\n",
        "]\n",
        "\n",
        "for p1 in range(6):\n",
        "    for p2 in range(6):\n",
        "        for p3 in range(6):\n",
        "            for q1 in range(6):\n",
        "                for q2 in range(6):\n",
        "                    for q3 in range(6):\n",
        "                        ps = [p1,p2,p3]\n",
        "                        qs = [q1,q2,q3]\n",
        "                        for w in range(3):\n",
        "                            for f in range(3):\n",
        "                                constraint = -ts[p1,p2,p3,q1,q2,q3,w,f]-gs[p1,p2,p3,q1,q2,q3,w,f]\n",
        "                                for f_ in pref[ps[w]][f]:\n",
        "                                    constraint -= gs[p1,p2,p3,q1,q2,q3,w,f_]\n",
        "                                for w_ in pref[qs[f]][w]:\n",
        "                                    constraint -= gs[p1,p2,p3,q1,q2,q3,w_,f]\n",
        "                                problem += constraint <= -1\n",
        "                                index_list.append(f\"z_{w}{f}_{p1}{p2}{p3}{q1}{q2}{q3}\")"
      ],
      "metadata": {
        "id": "Yny3ZqQs_mKr"
      },
      "execution_count": null,
      "outputs": []
    },
    {
      "cell_type": "code",
      "source": [
        "# strategy proofness\n",
        "for p1 in range(6):\n",
        "    for p2 in range(6):\n",
        "        for p3 in range(6):\n",
        "            for q1 in range(6):\n",
        "                for q2 in range(6):\n",
        "                    for q3 in range(6):\n",
        "                        ps = [p1,p2,p3]\n",
        "                        qs = [q1,q2,q3]\n",
        "                        for w in range(3):\n",
        "                            for p_ in range(6):\n",
        "                                if p_ != ps[w]:\n",
        "                                    for f in range(3):\n",
        "                                        constraint = 0\n",
        "                                        flag = 0\n",
        "                                        for f_ in pref[ps[w]][f]:\n",
        "                                            flag = 1\n",
        "                                            if w == 0:\n",
        "                                                constraint += gs[p_,p2,p3,q1,q2,q3,w,f_] - gs[p1,p2,p3,q1,q2,q3,w,f_]\n",
        "                                            elif w == 1:\n",
        "                                                constraint += gs[p1,p_,p3,q1,q2,q3,w,f_] - gs[p1,p2,p3,q1,q2,q3,w,f_]\n",
        "                                            elif w == 2:\n",
        "                                                constraint += gs[p1,p2,p_,q1,q2,q3,w,f_] - gs[p1,p2,p3,q1,q2,q3,w,f_]\n",
        "                                        if flag:\n",
        "                                            problem += constraint <= 0\n",
        "                                            index_list.append(f\"u_{w}{f}_{p_}_{p1}{p2}{p3}{q1}{q2}{q3}\")\n",
        "                        for f in range(3):\n",
        "                            for q_ in range(6):\n",
        "                                if q_ != qs[f]:\n",
        "                                    for w in range(3):\n",
        "                                        constraint = 0\n",
        "                                        flag = 0\n",
        "                                        for w_ in pref[qs[f]][w]:\n",
        "                                            flag = 1\n",
        "                                            if f == 0:\n",
        "                                                constraint += gs[p1,p2,p3,q_,q2,q3,w_,f] - gs[p1,p2,p3,q1,q2,q3,w_,f]\n",
        "                                            elif f == 1:\n",
        "                                                constraint += gs[p1,p2,p3,q1,q_,q3,w_,f] - gs[p1,p2,p3,q1,q2,q3,w_,f]\n",
        "                                            elif f == 2:\n",
        "                                                constraint += gs[p1,p2,p3,q1,q2,q_,w_,f] - gs[p1,p2,p3,q1,q2,q3,w_,f]\n",
        "                                        if flag:\n",
        "                                            problem += constraint <= 0\n",
        "                                            index_list.append(f\"v_{w}{f}_{q_}_{p1}{p2}{p3}{q1}{q2}{q3}\")"
      ],
      "metadata": {
        "id": "ZoY7GfijVe6W"
      },
      "execution_count": null,
      "outputs": []
    },
    {
      "cell_type": "code",
      "source": [
        "problem.optimize()"
      ],
      "metadata": {
        "id": "TOJR7bz2BbFx"
      },
      "execution_count": null,
      "outputs": []
    },
    {
      "cell_type": "code",
      "source": [
        "# fairness\n",
        "change = [\n",
        "    [[[1,0,2],[2,1,0]],[0,2,1]],\n",
        "    [[[1,2,0],[2,0,1]],[0,1,2]],\n",
        "    [[[0,1,2],[1,2,0]],[2,0,1]],\n",
        "    [[[0,2,1],[1,0,2]],[2,1,0]],\n",
        "    [[[2,1,0],[0,2,1]],[1,0,2]],\n",
        "    [[[2,0,1],[0,1,2]],[1,2,0]]\n",
        "]\n",
        "\n",
        "for p1 in range(6):\n",
        "    for p2 in range(6):\n",
        "        for p3 in range(6):\n",
        "            for q1 in range(6):\n",
        "                for q2 in range(6):\n",
        "                    for q3 in range(6):\n",
        "                        ps = [p1,p2,p3]\n",
        "                        qs = [q1,q2,q3]\n",
        "                        # for w in range(3):\n",
        "                        #     for f in range(3):\n",
        "                        #         problem += gs[p1][p2][p3][q1][q2][q3][w][f] == gs[q1][q2][q3][p1][p2][p3][f][w]\n",
        "                        for w1 in range(2):\n",
        "                            for w2 in range(w1,3):\n",
        "                                w3 = 3-w1-w2\n",
        "                                for f in range(3):\n",
        "                                    if w3 == 2:\n",
        "                                        problem += gs[p1][p2][p3][q1][q2][q3][w1][f] == gs[p2][p1][p3][change[q1][w1][w2-1]][change[q2][w1][w2-1]][change[q3][w1][w2-1]][w2][f]\n",
        "                                        problem += gs[p1][p2][p3][q1][q2][q3][w2][f] == gs[p2][p1][p3][change[q1][w1][w2-1]][change[q2][w1][w2-1]][change[q3][w1][w2-1]][w1][f]\n",
        "                                        problem += gs[p1][p2][p3][q1][q2][q3][w3][f] == gs[p2][p1][p3][change[q1][w1][w2-1]][change[q2][w1][w2-1]][change[q3][w1][w2-1]][w3][f]\n",
        "                                    elif w3 == 1:\n",
        "                                        problem += gs[p1][p2][p3][q1][q2][q3][w1][f] == gs[p3][p2][p1][change[q1][w1][w2-1]][change[q2][w1][w2-1]][change[q3][w1][w2-1]][w2][f]\n",
        "                                        problem += gs[p1][p2][p3][q1][q2][q3][w2][f] == gs[p3][p2][p1][change[q1][w1][w2-1]][change[q2][w1][w2-1]][change[q3][w1][w2-1]][w1][f]\n",
        "                                        problem += gs[p1][p2][p3][q1][q2][q3][w3][f] == gs[p3][p2][p1][change[q1][w1][w2-1]][change[q2][w1][w2-1]][change[q3][w1][w2-1]][w3][f]\n",
        "                                    elif w3 == 0:\n",
        "                                        problem += gs[p1][p2][p3][q1][q2][q3][w1][f] == gs[p1][p3][p2][change[q1][w1][w2-1]][change[q2][w1][w2-1]][change[q3][w1][w2-1]][w2][f]\n",
        "                                        problem += gs[p1][p2][p3][q1][q2][q3][w2][f] == gs[p1][p3][p2][change[q1][w1][w2-1]][change[q2][w1][w2-1]][change[q3][w1][w2-1]][w1][f]\n",
        "                                        problem += gs[p1][p2][p3][q1][q2][q3][w3][f] == gs[p1][p3][p2][change[q1][w1][w2-1]][change[q2][w1][w2-1]][change[q3][w1][w2-1]][w3][f]\n",
        "                        for f1 in range(2):\n",
        "                            for f2 in range(f1,3):\n",
        "                                f3 = 3-f1-f2\n",
        "                                for w in range(3):\n",
        "                                    if f3 == 2:\n",
        "                                        problem += gs[p1][p2][p3][q1][q2][q3][w][f1] == gs[change[p1][f1][f2-1]][change[p2][f1][f2-1]][change[p3][f1][f2-1]][q2][q1][q3][w][f2]\n",
        "                                        problem += gs[p1][p2][p3][q1][q2][q3][w][f2] == gs[change[p1][f1][f2-1]][change[p2][f1][f2-1]][change[p3][f1][f2-1]][q2][q1][q3][w][f1]\n",
        "                                        problem += gs[p1][p2][p3][q1][q2][q3][w][f3] == gs[change[p1][f1][f2-1]][change[p2][f1][f2-1]][change[p3][f1][f2-1]][q2][q1][q3][w][f3]\n",
        "                                    elif f3 == 1:\n",
        "                                        problem += gs[p1][p2][p3][q1][q2][q3][w][f1] == gs[change[p1][f1][f2-1]][change[p2][f1][f2-1]][change[p3][f1][f2-1]][q3][q2][q1][w][f3]\n",
        "                                        problem += gs[p1][p2][p3][q1][q2][q3][w][f2] == gs[change[p1][f1][f2-1]][change[p2][f1][f2-1]][change[p3][f1][f2-1]][q3][q2][q1][w][f2]\n",
        "                                        problem += gs[p1][p2][p3][q1][q2][q3][w][f3] == gs[change[p1][f1][f2-1]][change[p2][f1][f2-1]][change[p3][f1][f2-1]][q3][q2][q1][w][f1]\n",
        "                                    elif f3 == 0:\n",
        "                                        problem += gs[p1][p2][p3][q1][q2][q3][w][f1] == gs[change[p1][f1][f2-1]][change[p2][f1][f2-1]][change[p3][f1][f2-1]][q1][q3][q2][w][f1]\n",
        "                                        problem += gs[p1][p2][p3][q1][q2][q3][w][f2] == gs[change[p1][f1][f2-1]][change[p2][f1][f2-1]][change[p3][f1][f2-1]][q1][q3][q2][w][f3]\n",
        "                                        problem += gs[p1][p2][p3][q1][q2][q3][w][f3] == gs[change[p1][f1][f2-1]][change[p2][f1][f2-1]][change[p3][f1][f2-1]][q1][q3][q2][w][f2]"
      ],
      "metadata": {
        "id": "6t-SUie-tz9y"
      },
      "execution_count": null,
      "outputs": []
    },
    {
      "cell_type": "code",
      "source": [
        "result = problem.solve()"
      ],
      "metadata": {
        "id": "WQhL_WTyW55I",
        "colab": {
          "base_uri": "https://localhost:8080/",
          "height": 297
        },
        "outputId": "6b0d9a3f-eff3-4caf-e2b1-e2e11b9032c1"
      },
      "execution_count": null,
      "outputs": [
        {
          "output_type": "error",
          "ename": "KeyboardInterrupt",
          "evalue": "",
          "traceback": [
            "\u001b[0;31m---------------------------------------------------------------------------\u001b[0m",
            "\u001b[0;31mKeyboardInterrupt\u001b[0m                         Traceback (most recent call last)",
            "\u001b[0;32m<ipython-input-29-c0db771fadfc>\u001b[0m in \u001b[0;36m<cell line: 1>\u001b[0;34m()\u001b[0m\n\u001b[0;32m----> 1\u001b[0;31m \u001b[0mresult\u001b[0m \u001b[0;34m=\u001b[0m \u001b[0mproblem\u001b[0m\u001b[0;34m.\u001b[0m\u001b[0msolve\u001b[0m\u001b[0;34m(\u001b[0m\u001b[0;34m)\u001b[0m\u001b[0;34m\u001b[0m\u001b[0;34m\u001b[0m\u001b[0m\n\u001b[0m",
            "\u001b[0;32m/usr/local/lib/python3.10/dist-packages/pulp/pulp.py\u001b[0m in \u001b[0;36msolve\u001b[0;34m(self, solver, **kwargs)\u001b[0m\n\u001b[1;32m   1881\u001b[0m         \u001b[0;31m# time it\u001b[0m\u001b[0;34m\u001b[0m\u001b[0;34m\u001b[0m\u001b[0m\n\u001b[1;32m   1882\u001b[0m         \u001b[0mself\u001b[0m\u001b[0;34m.\u001b[0m\u001b[0mstartClock\u001b[0m\u001b[0;34m(\u001b[0m\u001b[0;34m)\u001b[0m\u001b[0;34m\u001b[0m\u001b[0;34m\u001b[0m\u001b[0m\n\u001b[0;32m-> 1883\u001b[0;31m         \u001b[0mstatus\u001b[0m \u001b[0;34m=\u001b[0m \u001b[0msolver\u001b[0m\u001b[0;34m.\u001b[0m\u001b[0mactualSolve\u001b[0m\u001b[0;34m(\u001b[0m\u001b[0mself\u001b[0m\u001b[0;34m,\u001b[0m \u001b[0;34m**\u001b[0m\u001b[0mkwargs\u001b[0m\u001b[0;34m)\u001b[0m\u001b[0;34m\u001b[0m\u001b[0;34m\u001b[0m\u001b[0m\n\u001b[0m\u001b[1;32m   1884\u001b[0m         \u001b[0mself\u001b[0m\u001b[0;34m.\u001b[0m\u001b[0mstopClock\u001b[0m\u001b[0;34m(\u001b[0m\u001b[0;34m)\u001b[0m\u001b[0;34m\u001b[0m\u001b[0;34m\u001b[0m\u001b[0m\n\u001b[1;32m   1885\u001b[0m         \u001b[0mself\u001b[0m\u001b[0;34m.\u001b[0m\u001b[0mrestoreObjective\u001b[0m\u001b[0;34m(\u001b[0m\u001b[0mwasNone\u001b[0m\u001b[0;34m,\u001b[0m \u001b[0mdummyVar\u001b[0m\u001b[0;34m)\u001b[0m\u001b[0;34m\u001b[0m\u001b[0;34m\u001b[0m\u001b[0m\n",
            "\u001b[0;32m/usr/local/lib/python3.10/dist-packages/pulp/apis/coin_api.py\u001b[0m in \u001b[0;36mactualSolve\u001b[0;34m(self, lp, **kwargs)\u001b[0m\n\u001b[1;32m    110\u001b[0m     \u001b[0;32mdef\u001b[0m \u001b[0mactualSolve\u001b[0m\u001b[0;34m(\u001b[0m\u001b[0mself\u001b[0m\u001b[0;34m,\u001b[0m \u001b[0mlp\u001b[0m\u001b[0;34m,\u001b[0m \u001b[0;34m**\u001b[0m\u001b[0mkwargs\u001b[0m\u001b[0;34m)\u001b[0m\u001b[0;34m:\u001b[0m\u001b[0;34m\u001b[0m\u001b[0;34m\u001b[0m\u001b[0m\n\u001b[1;32m    111\u001b[0m         \u001b[0;34m\"\"\"Solve a well formulated lp problem\"\"\"\u001b[0m\u001b[0;34m\u001b[0m\u001b[0;34m\u001b[0m\u001b[0m\n\u001b[0;32m--> 112\u001b[0;31m         \u001b[0;32mreturn\u001b[0m \u001b[0mself\u001b[0m\u001b[0;34m.\u001b[0m\u001b[0msolve_CBC\u001b[0m\u001b[0;34m(\u001b[0m\u001b[0mlp\u001b[0m\u001b[0;34m,\u001b[0m \u001b[0;34m**\u001b[0m\u001b[0mkwargs\u001b[0m\u001b[0;34m)\u001b[0m\u001b[0;34m\u001b[0m\u001b[0;34m\u001b[0m\u001b[0m\n\u001b[0m\u001b[1;32m    113\u001b[0m \u001b[0;34m\u001b[0m\u001b[0m\n\u001b[1;32m    114\u001b[0m     \u001b[0;32mdef\u001b[0m \u001b[0mavailable\u001b[0m\u001b[0;34m(\u001b[0m\u001b[0mself\u001b[0m\u001b[0;34m)\u001b[0m\u001b[0;34m:\u001b[0m\u001b[0;34m\u001b[0m\u001b[0;34m\u001b[0m\u001b[0m\n",
            "\u001b[0;32m/usr/local/lib/python3.10/dist-packages/pulp/apis/coin_api.py\u001b[0m in \u001b[0;36msolve_CBC\u001b[0;34m(self, lp, use_mps)\u001b[0m\n\u001b[1;32m    176\u001b[0m         \u001b[0;32melse\u001b[0m\u001b[0;34m:\u001b[0m\u001b[0;34m\u001b[0m\u001b[0;34m\u001b[0m\u001b[0m\n\u001b[1;32m    177\u001b[0m             \u001b[0mcbc\u001b[0m \u001b[0;34m=\u001b[0m \u001b[0msubprocess\u001b[0m\u001b[0;34m.\u001b[0m\u001b[0mPopen\u001b[0m\u001b[0;34m(\u001b[0m\u001b[0margs\u001b[0m\u001b[0;34m,\u001b[0m \u001b[0mstdout\u001b[0m\u001b[0;34m=\u001b[0m\u001b[0mpipe\u001b[0m\u001b[0;34m,\u001b[0m \u001b[0mstderr\u001b[0m\u001b[0;34m=\u001b[0m\u001b[0mpipe\u001b[0m\u001b[0;34m,\u001b[0m \u001b[0mstdin\u001b[0m\u001b[0;34m=\u001b[0m\u001b[0mdevnull\u001b[0m\u001b[0;34m)\u001b[0m\u001b[0;34m\u001b[0m\u001b[0;34m\u001b[0m\u001b[0m\n\u001b[0;32m--> 178\u001b[0;31m         \u001b[0;32mif\u001b[0m \u001b[0mcbc\u001b[0m\u001b[0;34m.\u001b[0m\u001b[0mwait\u001b[0m\u001b[0;34m(\u001b[0m\u001b[0;34m)\u001b[0m \u001b[0;34m!=\u001b[0m \u001b[0;36m0\u001b[0m\u001b[0;34m:\u001b[0m\u001b[0;34m\u001b[0m\u001b[0;34m\u001b[0m\u001b[0m\n\u001b[0m\u001b[1;32m    179\u001b[0m             \u001b[0;32mif\u001b[0m \u001b[0mpipe\u001b[0m\u001b[0;34m:\u001b[0m\u001b[0;34m\u001b[0m\u001b[0;34m\u001b[0m\u001b[0m\n\u001b[1;32m    180\u001b[0m                 \u001b[0mpipe\u001b[0m\u001b[0;34m.\u001b[0m\u001b[0mclose\u001b[0m\u001b[0;34m(\u001b[0m\u001b[0;34m)\u001b[0m\u001b[0;34m\u001b[0m\u001b[0;34m\u001b[0m\u001b[0m\n",
            "\u001b[0;32m/usr/lib/python3.10/subprocess.py\u001b[0m in \u001b[0;36mwait\u001b[0;34m(self, timeout)\u001b[0m\n\u001b[1;32m   1207\u001b[0m             \u001b[0mendtime\u001b[0m \u001b[0;34m=\u001b[0m \u001b[0m_time\u001b[0m\u001b[0;34m(\u001b[0m\u001b[0;34m)\u001b[0m \u001b[0;34m+\u001b[0m \u001b[0mtimeout\u001b[0m\u001b[0;34m\u001b[0m\u001b[0;34m\u001b[0m\u001b[0m\n\u001b[1;32m   1208\u001b[0m         \u001b[0;32mtry\u001b[0m\u001b[0;34m:\u001b[0m\u001b[0;34m\u001b[0m\u001b[0;34m\u001b[0m\u001b[0m\n\u001b[0;32m-> 1209\u001b[0;31m             \u001b[0;32mreturn\u001b[0m \u001b[0mself\u001b[0m\u001b[0;34m.\u001b[0m\u001b[0m_wait\u001b[0m\u001b[0;34m(\u001b[0m\u001b[0mtimeout\u001b[0m\u001b[0;34m=\u001b[0m\u001b[0mtimeout\u001b[0m\u001b[0;34m)\u001b[0m\u001b[0;34m\u001b[0m\u001b[0;34m\u001b[0m\u001b[0m\n\u001b[0m\u001b[1;32m   1210\u001b[0m         \u001b[0;32mexcept\u001b[0m \u001b[0mKeyboardInterrupt\u001b[0m\u001b[0;34m:\u001b[0m\u001b[0;34m\u001b[0m\u001b[0;34m\u001b[0m\u001b[0m\n\u001b[1;32m   1211\u001b[0m             \u001b[0;31m# https://bugs.python.org/issue25942\u001b[0m\u001b[0;34m\u001b[0m\u001b[0;34m\u001b[0m\u001b[0m\n",
            "\u001b[0;32m/usr/lib/python3.10/subprocess.py\u001b[0m in \u001b[0;36m_wait\u001b[0;34m(self, timeout)\u001b[0m\n\u001b[1;32m   1957\u001b[0m                         \u001b[0;32mif\u001b[0m \u001b[0mself\u001b[0m\u001b[0;34m.\u001b[0m\u001b[0mreturncode\u001b[0m \u001b[0;32mis\u001b[0m \u001b[0;32mnot\u001b[0m \u001b[0;32mNone\u001b[0m\u001b[0;34m:\u001b[0m\u001b[0;34m\u001b[0m\u001b[0;34m\u001b[0m\u001b[0m\n\u001b[1;32m   1958\u001b[0m                             \u001b[0;32mbreak\u001b[0m  \u001b[0;31m# Another thread waited.\u001b[0m\u001b[0;34m\u001b[0m\u001b[0;34m\u001b[0m\u001b[0m\n\u001b[0;32m-> 1959\u001b[0;31m                         \u001b[0;34m(\u001b[0m\u001b[0mpid\u001b[0m\u001b[0;34m,\u001b[0m \u001b[0msts\u001b[0m\u001b[0;34m)\u001b[0m \u001b[0;34m=\u001b[0m \u001b[0mself\u001b[0m\u001b[0;34m.\u001b[0m\u001b[0m_try_wait\u001b[0m\u001b[0;34m(\u001b[0m\u001b[0;36m0\u001b[0m\u001b[0;34m)\u001b[0m\u001b[0;34m\u001b[0m\u001b[0;34m\u001b[0m\u001b[0m\n\u001b[0m\u001b[1;32m   1960\u001b[0m                         \u001b[0;31m# Check the pid and loop as waitpid has been known to\u001b[0m\u001b[0;34m\u001b[0m\u001b[0;34m\u001b[0m\u001b[0m\n\u001b[1;32m   1961\u001b[0m                         \u001b[0;31m# return 0 even without WNOHANG in odd situations.\u001b[0m\u001b[0;34m\u001b[0m\u001b[0;34m\u001b[0m\u001b[0m\n",
            "\u001b[0;32m/usr/lib/python3.10/subprocess.py\u001b[0m in \u001b[0;36m_try_wait\u001b[0;34m(self, wait_flags)\u001b[0m\n\u001b[1;32m   1915\u001b[0m             \u001b[0;34m\"\"\"All callers to this function MUST hold self._waitpid_lock.\"\"\"\u001b[0m\u001b[0;34m\u001b[0m\u001b[0;34m\u001b[0m\u001b[0m\n\u001b[1;32m   1916\u001b[0m             \u001b[0;32mtry\u001b[0m\u001b[0;34m:\u001b[0m\u001b[0;34m\u001b[0m\u001b[0;34m\u001b[0m\u001b[0m\n\u001b[0;32m-> 1917\u001b[0;31m                 \u001b[0;34m(\u001b[0m\u001b[0mpid\u001b[0m\u001b[0;34m,\u001b[0m \u001b[0msts\u001b[0m\u001b[0;34m)\u001b[0m \u001b[0;34m=\u001b[0m \u001b[0mos\u001b[0m\u001b[0;34m.\u001b[0m\u001b[0mwaitpid\u001b[0m\u001b[0;34m(\u001b[0m\u001b[0mself\u001b[0m\u001b[0;34m.\u001b[0m\u001b[0mpid\u001b[0m\u001b[0;34m,\u001b[0m \u001b[0mwait_flags\u001b[0m\u001b[0;34m)\u001b[0m\u001b[0;34m\u001b[0m\u001b[0;34m\u001b[0m\u001b[0m\n\u001b[0m\u001b[1;32m   1918\u001b[0m             \u001b[0;32mexcept\u001b[0m \u001b[0mChildProcessError\u001b[0m\u001b[0;34m:\u001b[0m\u001b[0;34m\u001b[0m\u001b[0;34m\u001b[0m\u001b[0m\n\u001b[1;32m   1919\u001b[0m                 \u001b[0;31m# This happens if SIGCLD is set to be ignored or waiting\u001b[0m\u001b[0;34m\u001b[0m\u001b[0;34m\u001b[0m\u001b[0m\n",
            "\u001b[0;31mKeyboardInterrupt\u001b[0m: "
          ]
        }
      ]
    },
    {
      "cell_type": "code",
      "source": [
        "for p1 in range(2):\n",
        "    for p2 in range(2):\n",
        "        for q1 in range(2):\n",
        "            for q2 in range(2):\n",
        "                for w in range(2):\n",
        "                    for f in range(2):\n",
        "                        print(f\"g_{w}{f}_{p1}{p2}{q1}{q2}:{gs[p1][p2][q1][q2][w][f].value()}\")"
      ],
      "metadata": {
        "colab": {
          "base_uri": "https://localhost:8080/"
        },
        "id": "u-fp-KhuZS_R",
        "outputId": "1c70909d-21ce-4089-b433-ddd885f294e1"
      },
      "execution_count": null,
      "outputs": [
        {
          "output_type": "stream",
          "name": "stdout",
          "text": [
            "g_00_0000:1.0\n",
            "g_01_0000:0.0\n",
            "g_10_0000:0.0\n",
            "g_11_0000:1.0\n",
            "g_00_0001:0.0\n",
            "g_01_0001:1.0\n",
            "g_10_0001:1.0\n",
            "g_11_0001:0.0\n",
            "g_00_0010:1.0\n",
            "g_01_0010:0.0\n",
            "g_10_0010:0.0\n",
            "g_11_0010:1.0\n",
            "g_00_0011:0.0\n",
            "g_01_0011:1.0\n",
            "g_10_0011:1.0\n",
            "g_11_0011:0.0\n",
            "g_00_0100:0.0\n",
            "g_01_0100:1.0\n",
            "g_10_0100:1.0\n",
            "g_11_0100:0.0\n",
            "g_00_0101:0.0\n",
            "g_01_0101:1.0\n",
            "g_10_0101:1.0\n",
            "g_11_0101:0.0\n",
            "g_00_0110:1.0\n",
            "g_01_0110:0.0\n",
            "g_10_0110:0.0\n",
            "g_11_0110:1.0\n",
            "g_00_0111:0.0\n",
            "g_01_0111:1.0\n",
            "g_10_0111:1.0\n",
            "g_11_0111:0.0\n",
            "g_00_1000:1.0\n",
            "g_01_1000:0.0\n",
            "g_10_1000:0.0\n",
            "g_11_1000:1.0\n",
            "g_00_1001:0.0\n",
            "g_01_1001:1.0\n",
            "g_10_1001:1.0\n",
            "g_11_1001:0.0\n",
            "g_00_1010:1.0\n",
            "g_01_1010:0.0\n",
            "g_10_1010:0.0\n",
            "g_11_1010:1.0\n",
            "g_00_1011:1.0\n",
            "g_01_1011:0.0\n",
            "g_10_1011:0.0\n",
            "g_11_1011:1.0\n",
            "g_00_1100:0.0\n",
            "g_01_1100:1.0\n",
            "g_10_1100:1.0\n",
            "g_11_1100:0.0\n",
            "g_00_1101:0.0\n",
            "g_01_1101:1.0\n",
            "g_10_1101:1.0\n",
            "g_11_1101:0.0\n",
            "g_00_1110:1.0\n",
            "g_01_1110:0.0\n",
            "g_10_1110:0.0\n",
            "g_11_1110:1.0\n",
            "g_00_1111:1.0\n",
            "g_01_1111:0.0\n",
            "g_10_1111:0.0\n",
            "g_11_1111:1.0\n"
          ]
        }
      ]
    },
    {
      "cell_type": "code",
      "source": [],
      "metadata": {
        "id": "gl7RQb6wZ2X2"
      },
      "execution_count": null,
      "outputs": []
    }
  ]
}