{
  "cells": [
    {
      "cell_type": "code",
      "execution_count": null,
      "metadata": {
        "colab": {
          "base_uri": "https://localhost:8080/"
        },
        "id": "0EUPJOFtmmx4",
        "outputId": "5082c202-14cf-4cc8-c17b-f71151dc86ec"
      },
      "outputs": [],
      "source": [
        "# !git clone https://github.com/toyboy12345/deep-matching.git\n",
        "# from google.colab import drive\n",
        "# drive.mount('/content/drive')"
      ]
    },
    {
      "cell_type": "markdown",
      "metadata": {},
      "source": [
        "## (Strategy Proofness - First Order Stochastic Dominance)\n",
        "$$\n",
        "\\forall i\\in W\\cup F \\ \\forall \\succ_i \\forall \\succ_{-i} \\forall \\succ'_i \\forall j \\\\\n",
        "\\sum_{j'\\succeq j}(g_{ij'}(\\succ'_i,\\succ_{-i})-g_{ij'}(\\succ_i,\\succ_{-i})) \\leq 0\n",
        "$$"
      ]
    },
    {
      "cell_type": "markdown",
      "metadata": {},
      "source": [
        "## (Ex-ante Stability)\n",
        "$\\nexists (w,f)\\in W\\times F$ s.t. $\\exist f'\\ [g_{wf'}(\\succ)>0\\land f\\succ_w f']\\ \\exist w'\\ [g_{w'f}(\\succ)>0\\land w\\succ_f w']$\n",
        "\n",
        "## (Stability of Deterministic Matching)\n",
        "$$\n",
        "\\forall (w,f)\\in W\\times F \\ g_{wf}+\\sum_{f'\\succ_w f}g_{wf'}+\\sum_{w'\\succ_f w}g_{w'f}\\geq 1\n",
        "$$\n",
        "\n",
        "## (Ex-post Stability)\n",
        "A randomized matching is **ex-post stable** iff it can be decomposed into deterministic stable matchings.\n",
        "\n",
        "## (Fractionally Stable)\n",
        "$$\n",
        "\\forall (w,f)\\in W\\times F \\ g_{wf}+\\sum_{f'\\succ_w f}g_{wf'}+\\sum_{w'\\succ_f w}g_{w'f}\\geq 1\n",
        "$$\n",
        "\n",
        "### (Violation of Fractionally Stability)\n",
        "$$\n",
        "\\sum_\\succ\\sum_w\\sum_f\\max\\left\\{0,1-g_{wf}(\\succ)-\\sum_{w'\\succ_f w}g_{w'f}(\\succ)-\\sum_{f'\\succ_w f}g_{wf'}(\\succ)\\right\\}\n",
        "$$"
      ]
    },
    {
      "cell_type": "markdown",
      "metadata": {
        "id": "qE04wnKQjmBt"
      },
      "source": [
        "## (Primal)\n",
        "$$\n",
        "\\begin{align*}\n",
        "    \\min & \\sum_\\succ\\sum_w\\sum_f t_{wf}(\\succ)\\\\\n",
        "    \\text{s.t.} & \\sum_f g_{wf}(\\succ)\\leq 1 & \\forall\\succ\\forall w \\\\\n",
        "    & \\sum_w g_{wf}(\\succ)\\leq 1 & \\forall \\succ\\forall f\\\\\n",
        "    & t_{wf}(\\succ)\\geq 1-g_{wf}(\\succ)-\\sum_{w'\\succ_f w}g_{w'f}(\\succ)-\\sum_{f'\\succ_w f}g_{wf'}(\\succ) & \\forall\\succ\\forall w\\forall f\\\\\n",
        "    & \\sum_{f'\\succ_wf}(g_{wf'}(\\succ_w',\\succ_{-w})-g_{wf'}(\\succ))\\leq 0 & \\forall\\succ\\forall w\\forall\\succ_{w}'\\forall f\\\\\n",
        "    & \\sum_{w'\\succ_fw}(g_{w'f}(\\succ_f',\\succ_{-f})-g_{w'f}(\\succ))\\leq 0 & \\forall\\succ\\forall f\\forall\\succ_{f}'\\forall w\\\\\n",
        "    & g_{wf}(\\succ)\\geq 0,\\ t_{wf}(\\succ)\\geq 0 & \\forall\\succ\\forall w \\forall y\n",
        "\\end{align*}\n",
        "$$\n",
        "\n"
      ]
    },
    {
      "cell_type": "markdown",
      "metadata": {
        "id": "NTaRdV6po4Ne"
      },
      "source": [
        "## (Dual)\n",
        "$$\n",
        "\\begin{align*}\n",
        "    \\min & \\sum_\\succ\\left(\\sum_wx_w(\\succ)+\\sum_fy_f(\\succ)-\\sum_w\\sum_fz_{wf}(\\succ)\\right)\\\\\n",
        "    \\text{s.t.}  \\\\\n",
        "    & \\forall \\succ \\forall w \\forall f\\\\\n",
        "    & x_w(\\succ)+y_f(\\succ)-z_{wf}(\\succ)-\\sum_{f'\\prec_wf}z_{wf'}(\\succ)-\\sum_{w'\\prec_fw}z_{w'f}(\\succ)-\\sum_{\\succ_w'}\\left(\\sum_{f'\\prec_w f}u_{wf'}(\\succ_w',\\succ_w,\\succ_{-w})-\\sum_{f'\\prec_w'f}u_{wf'}(\\succ_w,\\succ_w',\\succ_{-w})\\right)-\\sum_{\\succ_f'}\\left(\\sum_{w'\\prec_fw}v_{w'f}(\\succ_f',\\succ_f,\\succ_{-f})-\\sum_{w'\\prec_f'w}v_{w'f}(\\succ_f,\\succ_f',\\succ_{-f})\\right)\\geq 0 & \\forall\\succ\\forall w\\forall f\\\\\n",
        "    & x_w(\\succ)\\geq 0,\\ y_f(\\succ)\\geq 0,\\ 0\\leq z_{wf}(\\succ)\\leq 1 & \\forall\\succ\\forall w\\forall f\\\\\n",
        "    & u_{wf}(\\succ'_w,\\succ_w,\\succ_{-w})\\geq 0 & \\forall\\succ\\forall w\\forall\\succ_w'\\forall f\\\\\n",
        "    & v_{wf}(\\succ'_f,\\succ_f,\\succ_{-f})\\geq 0 & \\forall\\succ\\forall f\\forall\\succ_f'\\forall w\n",
        "\\end{align*}\n",
        "$$"
      ]
    },
    {
      "cell_type": "code",
      "execution_count": 2,
      "metadata": {
        "id": "gXglOtmqFw_Z"
      },
      "outputs": [],
      "source": [
        "import os\n",
        "import sys\n",
        "import time\n",
        "import logging\n",
        "import argparse\n",
        "import numpy as np\n",
        "from random import random\n",
        "import itertools\n",
        "from pathlib import Path\n",
        "\n",
        "sys.path.append(str(Path(\"primal_dual_matching.ipynb\").resolve().parent.parent))\n",
        "\n",
        "import torch\n",
        "import torch.nn\n",
        "from torch import optim\n",
        "import torch.nn.functional as F\n",
        "\n",
        "from data import Data\n",
        "\n",
        "from primal_net import PrimalNet\n",
        "from primal_loss import *\n",
        "from primal_train import *\n",
        "\n",
        "from dual_net import DualNet\n",
        "from dual_loss import *\n",
        "from dual_train import *"
      ]
    },
    {
      "cell_type": "markdown",
      "metadata": {},
      "source": [
        "### Primal"
      ]
    },
    {
      "cell_type": "code",
      "execution_count": 3,
      "metadata": {
        "id": "MxVOWUwXF0in"
      },
      "outputs": [],
      "source": [
        "device = \"cuda:0\" if torch.cuda.is_available() else \"cpu\"\n",
        "lambd = np.ones((3,3))*0.001\n",
        "# lambd = cfg.lambd\n",
        "\n",
        "cfg = HParams(num_agents = 3,\n",
        "              device = device,\n",
        "              lambd = lambd,\n",
        "              rho = 0.1,\n",
        "              lagr_iter = 1000,\n",
        "              batch_size = 512)\n",
        "\n",
        "cfg.lr = 1e-4\n",
        "\n",
        "np.random.seed(cfg.seed)\n",
        "\n",
        "G = Data(cfg)"
      ]
    },
    {
      "cell_type": "code",
      "execution_count": null,
      "metadata": {},
      "outputs": [],
      "source": [
        "model = PrimalNet(cfg)\n",
        "model.to(device)"
      ]
    },
    {
      "cell_type": "code",
      "execution_count": null,
      "metadata": {},
      "outputs": [],
      "source": [
        "train_primal(cfg,G,model)"
      ]
    },
    {
      "cell_type": "markdown",
      "metadata": {},
      "source": [
        "### Dual"
      ]
    },
    {
      "cell_type": "code",
      "execution_count": null,
      "metadata": {},
      "outputs": [],
      "source": [
        "device = \"cuda:0\" if torch.cuda.is_available() else \"cpu\"\n",
        "lambd = np.ones((3,3))*0.001\n",
        "# lambd = cfg.lambd\n",
        "\n",
        "cfg = HParams(num_agents = 3,\n",
        "              device = device,\n",
        "              lambd = lambd,\n",
        "              rho = 0.1,\n",
        "              lagr_iter = 1000,\n",
        "              batch_size = 512)\n",
        "\n",
        "cfg.lr = 1e-4\n",
        "\n",
        "np.random.seed(cfg.seed)\n",
        "\n",
        "G = Data(cfg)"
      ]
    },
    {
      "cell_type": "code",
      "execution_count": null,
      "metadata": {
        "colab": {
          "base_uri": "https://localhost:8080/"
        },
        "id": "hOlaPu4SF8EP",
        "outputId": "029af6c6-fc12-414c-f410-c0064bb09a64"
      },
      "outputs": [],
      "source": [
        "model = DualNet(cfg)\n",
        "model.to(device)"
      ]
    },
    {
      "cell_type": "code",
      "execution_count": null,
      "metadata": {
        "colab": {
          "base_uri": "https://localhost:8080/",
          "height": 405
        },
        "id": "Jq4duSuiF-wZ",
        "outputId": "39d62945-fb86-415d-ebda-c75bbb6d1bf6"
      },
      "outputs": [],
      "source": [
        "train_dual(cfg,G,model)"
      ]
    }
  ],
  "metadata": {
    "accelerator": "GPU",
    "colab": {
      "gpuType": "T4",
      "provenance": []
    },
    "kernelspec": {
      "display_name": "Python 3",
      "name": "python3"
    },
    "language_info": {
      "codemirror_mode": {
        "name": "ipython",
        "version": 3
      },
      "file_extension": ".py",
      "mimetype": "text/x-python",
      "name": "python",
      "nbconvert_exporter": "python",
      "pygments_lexer": "ipython3",
      "version": "3.12.4"
    }
  },
  "nbformat": 4,
  "nbformat_minor": 0
}
