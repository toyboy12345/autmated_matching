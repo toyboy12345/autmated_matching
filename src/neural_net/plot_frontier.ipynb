{
 "cells": [
  {
   "cell_type": "markdown",
   "metadata": {},
   "source": [
    "### Required Packages: \n",
    "Numpy, Numba, Matplotlib and Pytorch\n",
    "\n",
    "### Running this Notebook\n",
    "Set the hyperparameters in cell [2]. Use this notebook to get all the parameters for plotting the frontier and the graphs"
   ]
  },
  {
   "cell_type": "code",
   "execution_count": 1,
   "metadata": {},
   "outputs": [],
   "source": [
    "import os\n",
    "import sys\n",
    "import time\n",
    "import logging\n",
    "import argparse\n",
    "import numpy as np\n",
    "\n",
    "import torch\n",
    "from torch import nn, optim\n",
    "import torch.nn.functional as F\n",
    "\n",
    "from data import Data\n",
    "from net import Net\n",
    "\n",
    "import baselines\n",
    "\n",
    "import matplotlib\n",
    "import matplotlib.pyplot as plt\n",
    "matplotlib.rcParams.update({'font.size': 16})"
   ]
  },
  {
   "cell_type": "markdown",
   "metadata": {},
   "source": [
    "### Set the hyperparamters here. \n",
    "Make sure models corresponding to $\\lambda, prob, corr$ are already trained.  \n",
    "Models can be trained using one of these:\n",
    " - Notebook:        train_example.py\n",
    " - Commandline:\n",
    "```\n",
    "python train.py -n <num_agents> -l <lambda> -p <p_trunc> -c <p_corr>\n",
    "```"
   ]
  },
  {
   "cell_type": "code",
   "execution_count": 2,
   "metadata": {},
   "outputs": [],
   "source": [
    "class HParams:\n",
    "    def __init__(self):\n",
    "        self.num_agents = 4\n",
    "        self.batch_size = 1024\n",
    "        self.num_hidden_layers = 4\n",
    "        self.num_hidden_nodes = 256\n",
    "        self.num_val_batches = 200\n",
    "        \n",
    "        # Higher probability => More truncation\n",
    "        self.prob = 0.2\n",
    "        # Higher lambd => More stability\n",
    "        self.lambd = -1\n",
    "        # Correlation of rankings\n",
    "        self.corr = 0.00\n",
    "        # Run seed\n",
    "        self.seed = 1\n",
    "        \n",
    "        \n",
    "# Initialize config\n",
    "cfg = HParams()\n",
    "device = \"cuda:0\"\n",
    "np.random.seed(cfg.seed)\n",
    "\n",
    "# Set the points to plot.\n",
    "lambdas = np.linspace(0, 1, 11)"
   ]
  },
  {
   "cell_type": "markdown",
   "metadata": {},
   "source": [
    "#### Loss functions in PyTorch"
   ]
  },
  {
   "cell_type": "code",
   "execution_count": null,
   "metadata": {},
   "outputs": [],
   "source": [
    "def torch_var(x): return torch.Tensor(x).to(device)\n",
    "\n",
    "# Loss functions in pytorch\n",
    "def compute_st(r, p, q):        \n",
    "    wp = F.relu(p[:, :, None, :] - p[:, :, :, None])\n",
    "    wq = F.relu(q[:, :, None, :] - q[:, None, :, :], 0)  \n",
    "    t = (1 - torch.sum(r, dim = 1, keepdim = True))\n",
    "    s = (1 - torch.sum(r, dim = 2, keepdim = True))\n",
    "    rgt_1 = torch.einsum('bjc,bijc->bic', r, wq) + t * F.relu(q)\n",
    "    rgt_2 = torch.einsum('bia,biac->bic', r, wp) + s * F.relu(p)\n",
    "    regret =  rgt_1 * rgt_2 \n",
    "    return regret.sum(-1).sum(-1).mean()/cfg.num_agents\n",
    "\n",
    "def compute_ir(r, p, q):\n",
    "    ir_1 = r * F.relu(-q)\n",
    "    ir_2 = r * F.relu(-p)\n",
    "    ir = ir_1 + ir_2\n",
    "    return ir.sum(-1).sum(-1).mean()/cfg.num_agents\n",
    "\n",
    "def compute_ic_FOSD(r, p, q, P, Q, r_mult = 1):\n",
    "            \n",
    "    IC_viol_P = torch.zeros(cfg.num_agents).to(device)\n",
    "    IC_viol_Q = torch.zeros(cfg.num_agents).to(device)\n",
    "    \n",
    "    discount = torch_var((r_mult) ** np.arange(cfg.num_agents))\n",
    "\n",
    "    for agent_idx in range(cfg.num_agents):\n",
    "\n",
    "        P_mis, Q_mis = G.generate_all_misreports(P, Q, agent_idx = agent_idx, is_P = True, include_truncation = True)\n",
    "        p_mis, q_mis = torch_var(P_mis), torch_var(Q_mis)\n",
    "        r_mis = model(p_mis.view(-1, cfg.num_agents, cfg.num_agents), q_mis.view(-1, cfg.num_agents, cfg.num_agents))\n",
    "        r_mis = r_mis.view(*P_mis.shape)\n",
    "\n",
    "        r_diff = (r_mis[:, :, agent_idx, :] - r[:, None, agent_idx, :])*(p[:, None, agent_idx, :] > 0).float()\n",
    "        _, idx = torch.sort(-p[:, agent_idx, :])\n",
    "        idx = idx[:, None, :].repeat(1, r_mis.size(1), 1)\n",
    "        \n",
    "        fosd_viol = torch.cumsum(torch.gather(r_diff, -1, idx) * discount, -1)\n",
    "        IC_viol_P[agent_idx] = F.relu(fosd_viol).max(-1)[0].max(-1)[0].mean(-1)\n",
    "\n",
    "        P_mis, Q_mis = G.generate_all_misreports(P, Q, agent_idx = agent_idx, is_P = False, include_truncation = True)\n",
    "        p_mis, q_mis = torch_var(P_mis), torch_var(Q_mis)\n",
    "        r_mis = model(p_mis.view(-1, cfg.num_agents, cfg.num_agents), q_mis.view(-1, cfg.num_agents, cfg.num_agents))\n",
    "        r_mis = r_mis.view(*Q_mis.shape)\n",
    "        \n",
    "        r_diff = (r_mis[:, :, :, agent_idx] - r[:, None, :, agent_idx])*(q[:, None, :, agent_idx] > 0).float()\n",
    "        _, idx = torch.sort(-q[:, :, agent_idx])\n",
    "        idx = idx[:, None, :].repeat(1, r_mis.size(1), 1)\n",
    "        \n",
    "        fosd_viol = torch.cumsum(torch.gather(r_diff, -1, idx) * discount, -1)\n",
    "        IC_viol_Q[agent_idx] = F.relu(fosd_viol).max(-1)[0].max(-1)[0].mean(-1)\n",
    "\n",
    "    IC_viol = (IC_viol_P.mean() + IC_viol_Q.mean())*0.5\n",
    "    return IC_viol"
   ]
  },
  {
   "cell_type": "markdown",
   "metadata": {},
   "source": [
    "#### Loss functions in Numpy"
   ]
  },
  {
   "cell_type": "code",
   "execution_count": null,
   "metadata": {},
   "outputs": [],
   "source": [
    "# Loss functions numpy\n",
    "def STABILITY_VIOLATION_BATCH(P, Q, R):\n",
    "    WP = np.maximum(P[:, :, np.newaxis, :] - P[:, :, :, np.newaxis], 0)\n",
    "    WQ = np.maximum(Q[:, :, np.newaxis, :] - Q[:, np.newaxis, :, :], 0)   \n",
    "       \n",
    "    T = (1 - np.sum(R, axis = 1, keepdims = True))\n",
    "    S = (1 - np.sum(R, axis = 2, keepdims = True))\n",
    "    \n",
    "    RGT_1 = np.einsum('bjc,bijc->bic', R, WQ) + T * np.maximum(Q, 0)\n",
    "    RGT_2 = np.einsum('bia,biac->bic', R, WP) + S * np.maximum(P, 0)\n",
    "    \n",
    "    REGRET =  RGT_1 * RGT_2 \n",
    "    \n",
    "    return REGRET.sum(-1).sum(-1).mean()/cfg.num_agents\n",
    "\n",
    "def IR_VIOLATION_BATCH(P, Q, R):\n",
    "    IR_1 = R * np.maximum(-Q, 0)\n",
    "    IR_2 = R * np.maximum(-P, 0)\n",
    "    IR = IR_1 + IR_2\n",
    "    return IR.sum(-1).sum(-1).mean()/cfg.num_agents\n",
    "\n",
    "def IC_FOSD_VIOLATION_BATCH(P, Q, R, mechanism, r_mult = 1.0):\n",
    "    \n",
    "    IC_viol_P = np.zeros(cfg.num_agents)\n",
    "    IC_viol_Q = np.zeros(cfg.num_agents)\n",
    "    \n",
    "    discount = r_mult ** np.arange(cfg.num_agents)\n",
    "\n",
    "    for agent_idx in range(cfg.num_agents):\n",
    "        P_mis, Q_mis = G.generate_all_misreports(P, Q, agent_idx = agent_idx, is_P = True, include_truncation = True)\n",
    "        R_mis = mechanism(P_mis.reshape(-1, cfg.num_agents, cfg.num_agents),\n",
    "                                 Q_mis.reshape(-1, cfg.num_agents, cfg.num_agents))\n",
    "        R_mis = R_mis.reshape(cfg.batch_size, -1, cfg.num_agents, cfg.num_agents)\n",
    "\n",
    "        \n",
    "        R_diff = (R_mis[:, :, agent_idx, :] - R[:, None, agent_idx, :])*(P[:, None, agent_idx, :] > 0)\n",
    "        IDX = np.argsort(-P[:, agent_idx, :])\n",
    "        IDX = np.tile(IDX[:, None, :], (1, R_mis.shape[1], 1))\n",
    "        \n",
    "        FOSD_viol = np.cumsum(np.take_along_axis(R_diff, IDX, axis=-1) * discount, -1)\n",
    "        IC_viol_P[agent_idx] = np.maximum(FOSD_viol, 0).max(-1).max(-1).mean(-1)\n",
    "        \n",
    "        P_mis, Q_mis = G.generate_all_misreports(P, Q, agent_idx = agent_idx, is_P = False, include_truncation = True)\n",
    "        R_mis = mechanism(P_mis.reshape(-1, cfg.num_agents, cfg.num_agents),\n",
    "                                 Q_mis.reshape(-1, cfg.num_agents, cfg.num_agents))\n",
    "        R_mis = R_mis.reshape(cfg.batch_size, -1, cfg.num_agents, cfg.num_agents)\n",
    "\n",
    "        R_diff = (R_mis[:, :, :, agent_idx] - R[:, None, :, agent_idx])*(Q[:, None, :, agent_idx] > 0)\n",
    "        IDX = np.argsort(-Q[:, :, agent_idx])\n",
    "        IDX = np.tile(IDX[:, None, :], (1, R_mis.shape[1], 1))\n",
    "        \n",
    "        FOSD_viol = np.cumsum(np.take_along_axis(R_diff, IDX, axis=-1)*discount, -1)\n",
    "        IC_viol_Q[agent_idx] = np.maximum(FOSD_viol, 0).max(-1).max(-1).mean(-1)\n",
    "        \n",
    "    IC_viol = (IC_viol_P.mean() + IC_viol_Q.mean())*0.5\n",
    "    return IC_viol"
   ]
  },
  {
   "cell_type": "code",
   "execution_count": null,
   "metadata": {},
   "outputs": [],
   "source": [
    "# Data\n",
    "G = Data(cfg)\n",
    "\n",
    "# Neural Network\n",
    "model = Net(cfg)\n",
    "model.to(device)"
   ]
  },
  {
   "cell_type": "markdown",
   "metadata": {},
   "source": [
    "#### Compute the Stability and IC violations of neural network mechanism trained using different values of $\\lambda$"
   ]
  },
  {
   "cell_type": "code",
   "execution_count": null,
   "metadata": {},
   "outputs": [],
   "source": [
    "root_dir = os.path.join(\"experiments\", \"agents_%d\"%(cfg.num_agents),\"corr_%.2f\"%(cfg.corr))\n",
    "seed = 0\n",
    "\n",
    "ST = np.zeros(len(lambdas))\n",
    "IC = np.zeros(len(lambdas))\n",
    "\n",
    "for il, lam in enumerate(lambdas):  \n",
    "    model_path = os.path.join(root_dir, \"MODEL_%d_lambd_%f_prob_%.2f_corr_%.2f\"%(seed, lam, cfg.prob, cfg.corr))\n",
    "    model.load_state_dict(torch.load(model_path))\n",
    "    np.random.seed(cfg.seed)\n",
    "    print(\"Lam: \", lam)\n",
    "    with torch.no_grad():\n",
    "        val_st_loss = 0.0\n",
    "        val_ic_loss = 0.0\n",
    "        for j in range(cfg.num_val_batches):\n",
    "            P, Q = G.generate_batch_with_corr(cfg.batch_size)\n",
    "            p, q = torch_var(P), torch_var(Q)\n",
    "            r = model(p, q)\n",
    "            st_loss = compute_st(r, p, q)\n",
    "            ic_loss = compute_ic_FOSD(r, p, q, P, Q)\n",
    "            val_st_loss += st_loss.item() \n",
    "            val_ic_loss += ic_loss.item()\n",
    "        val_st_loss = val_st_loss/cfg.num_val_batches\n",
    "        val_ic_loss = val_ic_loss/cfg.num_val_batches\n",
    "        print(\"\\t[ST-Loss]: %f, [IC-Loss]: %f\"%(val_st_loss, val_ic_loss))\n",
    "        IC[il] = val_ic_loss\n",
    "        ST[il] = val_st_loss"
   ]
  },
  {
   "cell_type": "markdown",
   "metadata": {},
   "source": [
    "#### Compute the Stability and IC violations of the worker-proposing and firm-proposing DA, TTC and RSD*\n",
    "\n",
    "*The one-sided RSD mechanism achieves better stability. So we use it instead of the two sided version.\n",
    "This satifies all the properties as that of RSD for both sides"
   ]
  },
  {
   "cell_type": "code",
   "execution_count": null,
   "metadata": {
    "scrolled": true
   },
   "outputs": [],
   "source": [
    "def compute_violations(mech):\n",
    "    np.random.seed(cfg.seed)\n",
    "    VAL_ST_LOSS = 0.0\n",
    "    VAL_IC_LOSS = 0.0    \n",
    "\n",
    "    for j in range(cfg.num_val_batches):\n",
    "        P, Q = G.generate_batch(cfg.batch_size)\n",
    "        R = mech(P, Q)\n",
    "\n",
    "        ST_LOSS = STABILITY_VIOLATION_BATCH(P, Q, R) + IR_VIOLATION_BATCH(P, Q, R)\n",
    "        IC_LOSS = IC_FOSD_VIOLATION_BATCH(P, Q, R, mech)\n",
    "        VAL_ST_LOSS += ST_LOSS\n",
    "        VAL_IC_LOSS += IC_LOSS\n",
    "\n",
    "        print(\"[Batch]: %d, [ST-Loss]: %f, [IC-Loss]: %f\"%(j, ST_LOSS, IC_LOSS))\n",
    "        \n",
    "    VAL_ST_LOSS = VAL_ST_LOSS/cfg.num_val_batches\n",
    "    VAL_IC_LOSS = VAL_IC_LOSS/cfg.num_val_batches\n",
    "    print(\"\\t[ST-Loss]: %f, [IC-Loss]: %f\"%(VAL_ST_LOSS, VAL_IC_LOSS))\n",
    "    return VAL_ST_LOSS, VAL_IC_LOSS\n",
    "\n",
    "\n",
    "mech = baselines.compute_DA_batch\n",
    "s1, i1 = compute_violations(mech)\n",
    "mech = baselines.compute_DA_batch_switch\n",
    "s2, i2 = compute_violations(mech)\n",
    "DA_ST, DA_IC = max(s1, s2), max(i1, i2)\n",
    "\n",
    "mech = baselines.compute_TTC_batch\n",
    "s1, i1 = compute_violations(mech)\n",
    "mech = baselines.compute_TTC_batch_switch\n",
    "s2, i2 = compute_violations(mech)\n",
    "TTC_ST, TTC_IC = max(s1, s2), max(i1, i2)\n",
    "\n",
    "mech = baselines.compute_one_RSD_batch\n",
    "s1, i1 = compute_violations(mech)\n",
    "mech = baselines.compute_one_RSD_batch\n",
    "s2, i2 = compute_violations(mech)\n",
    "RSD_ST, RSD_IC = max(s1, s2), max(i1, i2)"
   ]
  },
  {
   "cell_type": "markdown",
   "metadata": {},
   "source": [
    "#### Compute Losses for convex combinations of mechainisms\n",
    "Note that this is not linear (as our losses aren't linear)"
   ]
  },
  {
   "cell_type": "code",
   "execution_count": null,
   "metadata": {},
   "outputs": [],
   "source": [
    "def STABILITY_VIOLATION_BATCH_COMBO(P, Q, mech_1, mech_2, lams):\n",
    "    \n",
    "    ST_VIOL = np.zeros(len(lams))\n",
    "    R_1 = mech_1(P, Q)\n",
    "    R_2 = mech_2(P, Q)\n",
    "    for idx, lam in enumerate(lams):        \n",
    "        R = lam * R_1 + (1 - lam) * R_2\n",
    "        ST_VIOL[idx] = STABILITY_VIOLATION_BATCH(P, Q, R)\n",
    "        \n",
    "    return ST_VIOL\n",
    "\n",
    "def IR_VIOLATION_BATCH_COMBO(P, Q, mech_1, mech_2, lams):\n",
    "    IR_VIOL = np.zeros(len(lams))\n",
    "    R_1 = mech_1(P, Q)\n",
    "    R_2 = mech_2(P, Q)\n",
    "    for idx, lam in enumerate(lams):        \n",
    "        R = lam * R_1 + (1 - lam) * R_2\n",
    "        IR_VIOL[idx] = IR_VIOLATION_BATCH(P, Q, R)\n",
    "        \n",
    "    return IR_VIOL\n",
    "\n",
    "\n",
    "def IC_VIOLATION_BATCH_COMBO(P, Q, mech_1, mech_2, lams):\n",
    "    \n",
    "    \n",
    "    R_1 = mech_1(P, Q)\n",
    "    R_2 = mech_2(P, Q)\n",
    "    \n",
    "    IC_viol_P = np.zeros(len(lams))\n",
    "    IC_viol_Q = np.zeros(len(lams))\n",
    "    \n",
    "    for agent_idx in range(cfg.num_agents):\n",
    "        P_mis, Q_mis = G.generate_all_misreports(P, Q, agent_idx = agent_idx, is_P = True, include_truncation = True)\n",
    "        \n",
    "        R_mis_1 = mech_1(P_mis.reshape(-1, cfg.num_agents, cfg.num_agents),\n",
    "                                 Q_mis.reshape(-1, cfg.num_agents, cfg.num_agents))\n",
    "        R_mis_1 = R_mis_1.reshape(cfg.batch_size, -1, cfg.num_agents, cfg.num_agents)\n",
    "        \n",
    "        R_mis_2 = mech_2(P_mis.reshape(-1, cfg.num_agents, cfg.num_agents),\n",
    "                                 Q_mis.reshape(-1, cfg.num_agents, cfg.num_agents))\n",
    "        R_mis_2 = R_mis_2.reshape(cfg.batch_size, -1, cfg.num_agents, cfg.num_agents)\n",
    "\n",
    "        \n",
    "        for idx, lam in enumerate(lams):\n",
    "            \n",
    "            R = lam * R_1 + (1 - lam) * R_2\n",
    "            R_mis = lam * R_mis_1 + (1 - lam) * R_mis_2\n",
    "            \n",
    "            R_diff = (R_mis[:, :, agent_idx, :] - R[:, None, agent_idx, :])*(P[:, None, agent_idx, :] > 0)\n",
    "            IDX = np.argsort(-P[:, agent_idx, :])\n",
    "            IDX = np.tile(IDX[:, None, :], (1, R_mis.shape[1], 1))\n",
    "        \n",
    "            FOSD_viol = np.cumsum(np.take_along_axis(R_diff, IDX, axis=-1), -1)\n",
    "            IC_viol_P[idx]  += np.maximum(FOSD_viol, 0).max(-1).max(-1).mean(-1)\n",
    "            \n",
    "            \n",
    "        P_mis, Q_mis = G.generate_all_misreports(P, Q, agent_idx = agent_idx, is_P = False, include_truncation = True)\n",
    "        \n",
    "        R_mis_1 = mech_1(P_mis.reshape(-1, cfg.num_agents, cfg.num_agents),\n",
    "                                 Q_mis.reshape(-1, cfg.num_agents, cfg.num_agents))\n",
    "        R_mis_1 = R_mis_1.reshape(cfg.batch_size, -1, cfg.num_agents, cfg.num_agents)\n",
    "        \n",
    "        R_mis_2 = mech_2(P_mis.reshape(-1, cfg.num_agents, cfg.num_agents),\n",
    "                                 Q_mis.reshape(-1, cfg.num_agents, cfg.num_agents))\n",
    "        R_mis_2 = R_mis_2.reshape(cfg.batch_size, -1, cfg.num_agents, cfg.num_agents)\n",
    "\n",
    "        for idx, lam in enumerate(lams):\n",
    "            R = lam * R_1 + (1 - lam) * R_2\n",
    "            R_mis = lam * R_mis_1 + (1 - lam) * R_mis_2\n",
    "            \n",
    "            R_diff = (R_mis[:, :, :, agent_idx] - R[:, None, :, agent_idx])*(Q[:, None, :, agent_idx] > 0)\n",
    "            IDX = np.argsort(-Q[:, :, agent_idx])\n",
    "            IDX = np.tile(IDX[:, None, :], (1, R_mis.shape[1], 1))\n",
    "        \n",
    "            FOSD_viol = np.cumsum(np.take_along_axis(R_diff, IDX, axis=-1), -1)\n",
    "            IC_viol_Q[idx] += np.maximum(FOSD_viol, 0).max(-1).max(-1).mean(-1)\n",
    "        \n",
    "    IC_viol = (IC_viol_P + IC_viol_Q)/(2*cfg.num_agents)\n",
    "    return IC_viol"
   ]
  },
  {
   "cell_type": "code",
   "execution_count": null,
   "metadata": {},
   "outputs": [],
   "source": [
    "def compute_combination_violations(mech_1, mech_2, lams):\n",
    "    np.random.seed(cfg.seed)\n",
    "\n",
    "    VAL_ST_LOSS = np.zeros(len(lams))\n",
    "    VAL_IC_LOSS = np.zeros(len(lams))\n",
    "\n",
    "    for j in range(cfg.num_val_batches):\n",
    "        P, Q = G.generate_batch(cfg.batch_size)\n",
    "\n",
    "        ST_LOSS = STABILITY_VIOLATION_BATCH_COMBO(P, Q, mech_1, mech_2, lams) + IR_VIOLATION_BATCH_COMBO(P, Q, mech_1, mech_2, lams)\n",
    "        IC_LOSS = IC_VIOLATION_BATCH_COMBO(P, Q, mech_1, mech_2, lams)\n",
    "\n",
    "        VAL_ST_LOSS += ST_LOSS\n",
    "        VAL_IC_LOSS += IC_LOSS\n",
    "\n",
    "    ST_arr = VAL_ST_LOSS/cfg.num_val_batches\n",
    "    IC_arr = VAL_IC_LOSS/cfg.num_val_batches\n",
    "    \n",
    "    return ST_arr, IC_arr\n",
    "\n",
    "lams = np.linspace(0, 1, 11)\n",
    "\n",
    "# Choose whichever side performed better \n",
    "mech_1 = baselines.compute_one_RSD_batch # (or) baselines.compute_one_RSD_batch_switch\n",
    "mech_2 = baselines.compute_TTC_batch # (or) baselines.compute_TTC_batch_switch\n",
    "mech_3 = baselines.compute_DA_batch # (or baselines.compute_DA_batch_switch)\n",
    "ST_1, IC_1 = compute_combination_violations(mech_1, mech_2, lams)\n",
    "ST_2, IC_2 = compute_combination_violations(mech_2, mech_3, lams)"
   ]
  },
  {
   "cell_type": "markdown",
   "metadata": {},
   "source": [
    "#### Compute the welfare, similarity to DA and Normalized Entropy of neural network mechanisms trained using different values of $\\lambda$"
   ]
  },
  {
   "cell_type": "code",
   "execution_count": null,
   "metadata": {},
   "outputs": [],
   "source": [
    "lams = np.linspace(0, 1, 11)\n",
    "WF = np.zeros(len(lambdas))\n",
    "SM = np.zeros(len(lambdas))\n",
    "EN = np.zeros(len(lambdas))\n",
    "\n",
    "def plogp(x): return - x * np.log2(np.maximum(x, 1e-8))\n",
    "\n",
    "root_dir = os.path.join(\"experiments\", \"agents_%d\"%(cfg.num_agents), \"corr_%.2f\"%(cfg.corr ))\n",
    "seed = 0\n",
    "\n",
    "for il, lam in enumerate(lambdas):  \n",
    "    model_path = os.path.join(root_dir, \"MODEL_%d_lambd_%f_prob_%.2f_corr_%.2f\"%(seed, lam, cfg.prob, cfg.corr))\n",
    "    model.load_state_dict(torch.load(model_path))\n",
    "    np.random.seed(cfg.seed)\n",
    "    print(\"Lam: \", lam)\n",
    "    \n",
    "    with torch.no_grad():\n",
    "        wel = 0.0\n",
    "        sim = 0.0\n",
    "        simp = 0.0\n",
    "        simq = 0.0\n",
    "        ent = 0.0\n",
    "        for j in range(cfg.num_val_batches):\n",
    "            P, Q = G.generate_batch_with_corr(cfg.batch_size)\n",
    "            p, q = torch_var(P), torch_var(Q)\n",
    "            r = model(p, q)\n",
    "            R = r.detach().cpu().numpy()\n",
    "            wel += (P * R + Q * R).sum()/(cfg.batch_size * cfg.num_agents * 2)\n",
    "            GS_P = baselines.compute_gsm_batch(P, Q)\n",
    "            GS_Q = baselines.compute_gsw_batch(P, Q)          \n",
    "            \n",
    "            sim_P = 2*(GS_P * R).sum(-1).sum(-1) + ((1 - GS_P.sum(-1)) * (1 - R.sum(-1))).sum(-1) + ((1 - GS_P.sum(-2)) * (1 - R.sum(-2))).sum(-1)\n",
    "            sim_Q = 2*(GS_Q * R).sum(-1).sum(-1) + ((1 - GS_Q.sum(-1)) * (1 - R.sum(-1))).sum(-1) + ((1 - GS_Q.sum(-2)) * (1 - R.sum(-2))).sum(-1)\n",
    "            \n",
    "            simp += sim_P.mean()/(2*cfg.num_agents)\n",
    "            simq += sim_Q.mean()/(2*cfg.num_agents)\n",
    "            H = plogp(R).sum(-1).sum(-1) + 0.5 * plogp(1 - R.sum(-1)).sum(-1) + 0.5 * plogp(1 - R.sum(-2)).sum(-1)\n",
    "            ent += H.mean()/cfg.num_agents/-np.log2(1/(cfg.num_agents + 1))\n",
    "        \n",
    "        sim = np.maximum(simp, simq)\n",
    "        sim = sim/cfg.num_val_batches\n",
    "        wel = wel/cfg.num_val_batches\n",
    "        ent = ent/cfg.num_val_batches\n",
    "        print(\"[Welfare]: %f, [Sim]: %f, [EN]: %f\"%(wel, sim, ent))\n",
    "        WF[il] = wel\n",
    "        SM[il] = sim\n",
    "        EN[il] = ent"
   ]
  },
  {
   "cell_type": "markdown",
   "metadata": {},
   "source": [
    "#### Compute the Welfare of the worker-proposing and firm-proposing DA, TTC and RSD*"
   ]
  },
  {
   "cell_type": "code",
   "execution_count": null,
   "metadata": {},
   "outputs": [],
   "source": [
    "def compute_welfare(mech):\n",
    "    np.random.seed(cfg.seed)\n",
    "    VAL_WF = 0.0\n",
    "    for j in range(cfg.num_val_batches):\n",
    "        P, Q = G.generate_batch(cfg.batch_size)\n",
    "        R = mech(P, Q)\n",
    "        VAL_WF += (P*R + Q*R).sum()/(cfg.batch_size * cfg.num_agents * 2)\n",
    "    VAL_WF = VAL_WF/cfg.num_val_batches\n",
    "    print(\"\\t[WF]: %f\"%(VAL_WF))\n",
    "    return VAL_WF\n",
    "\n",
    "mech_1 = baselines.compute_one_RSD_batch\n",
    "mech_2 = baselines.compute_TTC_batch\n",
    "mech_3 = baselines.compute_DA_batch\n",
    "\n",
    "RSD_WF = max(compute_welfare(baselines.compute_one_RSD_batch), compute_welfare(baselines.compute_one_RSD_batch_switch))\n",
    "TTC_WF = max(compute_welfare(baselines.compute_TTC_batch), compute_welfare(baselines.compute_TTC_batch_switch))\n",
    "DA_WF  = max(compute_welfare(baselines.compute_DA_batch), compute_welfare(baselines.compute_DA_batch_switch))"
   ]
  },
  {
   "cell_type": "markdown",
   "metadata": {},
   "source": [
    "#### Load the values here as shown.\n",
    "This is a sample for prob = 0.20, corr = 0.00"
   ]
  },
  {
   "cell_type": "code",
   "execution_count": 3,
   "metadata": {},
   "outputs": [],
   "source": [
    "lambdas = (np.linspace(0,1,11))\n",
    "\n",
    "RSD_ST = 0.082711\n",
    "RSD_IC = 0.0\n",
    "\n",
    "DA_ST = 0.0\n",
    "DA_IC = 0.055107\n",
    "\n",
    "TTC_ST =  0.022504\n",
    "TTC_IC =  0.020703\n",
    "\n",
    "ST = np.array([8.72940240e-01, 1.02907460e-01, 1.02900282e-01, 1.02901798e-01,\n",
    "       4.14119080e-02, 1.94829054e-02, 9.68230900e-03, 5.13924916e-03,\n",
    "       4.01918336e-03, 9.53526572e-04, 1.29530635e-04])\n",
    "\n",
    "IC = np.array([1.76672125e-08, 1.04047922e-08, 1.74304387e-08, 1.69786563e-08,\n",
    "       8.50095017e-03, 1.80544120e-02, 1.89612895e-02, 2.54116420e-02,\n",
    "       2.98713568e-02, 4.51296178e-02, 6.66147325e-02])\n",
    "\n",
    "ST_1 = np.array([0.02250366, 0.02788563, 0.03340955, 0.03907543, 0.04488327,\n",
    "       0.05083306, 0.0569248 , 0.0631585 , 0.06953416, 0.07605178,\n",
    "       0.08271134])\n",
    "\n",
    "IC_1 = np.array([2.07031250e-02, 1.86328125e-02, 1.65625000e-02, 1.44921875e-02,\n",
    "       1.24218750e-02, 1.03515625e-02, 8.28125000e-03, 6.21093750e-03,\n",
    "       4.14062500e-03, 2.07031250e-03, 2.23325319e-17])\n",
    "\n",
    "ST_2 = np.array([0.        , 0.00177158, 0.00364956, 0.00563394, 0.00772471,\n",
    "       0.00992188, 0.01222544, 0.0146354 , 0.01715176, 0.01977451,\n",
    "       0.02250366])\n",
    "\n",
    "IC_2 = np.array([0.05510742, 0.05122168, 0.04733594, 0.0434502 , 0.03956445,\n",
    "       0.03567871, 0.03268359, 0.02968848, 0.02669336, 0.02369824,\n",
    "       0.02070312])\n",
    "\n",
    "WF = np.array([0.08570209, 0.48238026, 0.48238782, 0.48238619, 0.55193785,\n",
    "       0.58156549, 0.60006206, 0.61339577, 0.63400719, 0.6407062 ,\n",
    "       0.64281173])\n",
    "\n",
    "DA_WF = 0.6411\n",
    "TTC_WF = 0.62488\n",
    "RSD_WF = 0.5899\n",
    "\n",
    "SM = np.array([0.17349346, 0.32239679, 0.32239986, 0.32239915, 0.44271798,\n",
    "       0.53721314, 0.63751662, 0.73822421, 0.96744009, 0.94198232,\n",
    "       0.93899476])\n",
    "\n",
    "EN = np.array([0.23966699, 0.74537022, 0.74531987, 0.74533159, 0.66558514,\n",
    "       0.58761214, 0.49628668, 0.39928189, 0.00434687, 0.00868243,\n",
    "       0.00843276])"
   ]
  },
  {
   "cell_type": "code",
   "execution_count": 4,
   "metadata": {},
   "outputs": [
    {
     "data": {
      "text/plain": [
       "(-0.0016666666666666668, 0.062)"
      ]
     },
     "execution_count": 4,
     "metadata": {},
     "output_type": "execute_result"
    },
    {
     "data": {
      "image/png": "[encoded data removed]",
      "text/plain": [
       "<Figure size 288x216 with 1 Axes>"
      ]
     },
     "metadata": {},
     "output_type": "display_data"
    }
   ],
   "source": [
    "f,ax = plt.subplots(1,1, facecolor='w', figsize=(4, 3))\n",
    "f.tight_layout(pad = 0.0)\n",
    "\n",
    "idx = [0,1,2,3,4,6,7,8,9,10]\n",
    "\n",
    "ax.grid()\n",
    "\n",
    "ax.axhline(y=0, color='k')\n",
    "ax.axvline(x=0, color='k')\n",
    "ax.set_ylabel(\"SP-violation\", fontsize=16)\n",
    "\n",
    "ax.plot(ST[idx], IC[idx], linewidth = 3.0, color = \"b\")\n",
    "ax.plot(ST, IC, \"ro\", markersize = 6.0)\n",
    "\n",
    "ax.plot(ST_1, IC_1, linewidth = 3.0, color = \"g\", ls = \"dashed\")\n",
    "ax.plot(ST_2, IC_2, linewidth = 3.0, color = \"g\", ls = \"dashed\")\n",
    "\n",
    "ax.plot(DA_ST, DA_IC, \"go\", markersize = 6.0)\n",
    "ax.plot(RSD_ST, RSD_IC, \"go\", markersize = 6.0)\n",
    "ax.plot(TTC_ST, TTC_IC, \"go\", markersize = 6.0)\n",
    "\n",
    "ax.annotate('w-DA',\n",
    "            xy=(0.0, DA_IC), xycoords='data', fontsize = 15,\n",
    "            xytext=(2e-2, DA_IC), textcoords='data',\n",
    "            arrowprops=dict(arrowstyle=\"->\", connectionstyle=\"arc3,rad=.2\"))\n",
    "\n",
    "ax.annotate('w-RSD',\n",
    "            xy=(RSD_ST, 0.0), xycoords='data', fontsize = 15,\n",
    "            xytext=(RSD_ST - 0.01, 0.01), textcoords='data',\n",
    "            arrowprops=dict(arrowstyle=\"->\", connectionstyle=\"arc3,rad=-.2\"))\n",
    "\n",
    "ax.annotate('w-TTC',\n",
    "            xy=(TTC_ST, TTC_IC), xycoords='data', fontsize = 15,\n",
    "            xytext=(TTC_ST - 0.01, TTC_IC + 0.02), textcoords='data',\n",
    "            arrowprops=dict(arrowstyle=\"->\", connectionstyle=\"arc3,rad=-.2\"))\n",
    "\n",
    "ax.set_xlim([-5e-3, 0.105])\n",
    "ax.set_ylim([-5e-3/3, 0.062])"
   ]
  },
  {
   "cell_type": "code",
   "execution_count": 5,
   "metadata": {},
   "outputs": [
    {
     "data": {
      "image/png": "[encoded data removed]",
      "text/plain": [
       "<Figure size 432x288 with 1 Axes>"
      ]
     },
     "metadata": {
      "needs_background": "light"
     },
     "output_type": "display_data"
    }
   ],
   "source": [
    "plt.plot(lambdas, WF, lw = 4.0, marker='x', label = r\"$g^{\\theta}$\")\n",
    "plt.grid()\n",
    "plt.xlabel(\"$\\lambda$\", fontsize = 17)\n",
    "plt.xticks(fontsize = 17)\n",
    "plt.ylabel(\"Welfare per agent\")\n",
    "plt.plot([0, 1], [DA_WF, DA_WF], lw = 4.0,  ls = \"dashdot\", label = \"DA\")\n",
    "plt.plot([0, 1], [TTC_WF, TTC_WF], lw = 4.0, ls = \"dashed\", label = \"TTC\")\n",
    "plt.plot([0, 1], [RSD_WF, RSD_WF], lw = 4.0, ls = \"dashdot\", label = \"RSD\")\n",
    "\n",
    "plt.legend()\n",
    "plt.xlim([0.25, 1.05])\n",
    "plt.ylim([0.5, 0.65])\n",
    "_ = plt.title(\"Welfare vs $\\lambda$\")"
   ]
  },
  {
   "cell_type": "code",
   "execution_count": 6,
   "metadata": {},
   "outputs": [
    {
     "data": {
      "image/png": "[encoded data removed]",
      "text/plain": [
       "<Figure size 432x288 with 1 Axes>"
      ]
     },
     "metadata": {
      "needs_background": "light"
     },
     "output_type": "display_data"
    }
   ],
   "source": [
    "plt.plot(lambdas, SM, c = \"b\", lw = 3.0, marker='x', label = r\"$Uncorrelated$\")\n",
    "plt.grid()\n",
    "plt.xlabel(\"$\\lambda$\", fontsize = 18)\n",
    "plt.xticks(fontsize = 17)\n",
    "plt.ylabel(\"% Similarity to DA\")\n",
    "_ = plt.title(\"% similarity to DA vs $\\lambda$\")"
   ]
  },
  {
   "cell_type": "code",
   "execution_count": 7,
   "metadata": {},
   "outputs": [
    {
     "data": {
      "image/png": "[encoded data removed]",
      "text/plain": [
       "<Figure size 432x288 with 1 Axes>"
      ]
     },
     "metadata": {
      "needs_background": "light"
     },
     "output_type": "display_data"
    }
   ],
   "source": [
    "plt.plot(lambdas[1:], EN[1:], c = \"b\", lw = 3.0, marker='x', label = r\"$Uncorrelated$\")\n",
    "plt.grid()\n",
    "plt.xlabel(\"$\\lambda$\", fontsize = 18)\n",
    "plt.xticks(fontsize = 17)\n",
    "plt.ylabel(\"Normalized Entropy\")\n",
    "_ = plt.title(\"Normalized Entropy vs $\\lambda$\")"
   ]
  },
  {
   "cell_type": "code",
   "execution_count": null,
   "metadata": {},
   "outputs": [],
   "source": []
  }
 ],
 "metadata": {
  "kernelspec": {
   "display_name": "Python [conda env:.conda-data_markets]",
   "language": "python",
   "name": "conda-env-.conda-data_markets-py"
  },
  "language_info": {
   "codemirror_mode": {
    "name": "ipython",
    "version": 3
   },
   "file_extension": ".py",
   "mimetype": "text/x-python",
   "name": "python",
   "nbconvert_exporter": "python",
   "pygments_lexer": "ipython3",
   "version": "3.8.2"
  }
 },
 "nbformat": 4,
 "nbformat_minor": 4
}
